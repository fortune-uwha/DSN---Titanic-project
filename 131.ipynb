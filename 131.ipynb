{
  "nbformat": 4,
  "nbformat_minor": 0,
  "metadata": {
    "kernelspec": {
      "display_name": "Python 3",
      "language": "python",
      "name": "python3"
    },
    "language_info": {
      "codemirror_mode": {
        "name": "ipython",
        "version": 3
      },
      "file_extension": ".py",
      "mimetype": "text/x-python",
      "name": "python",
      "nbconvert_exporter": "python",
      "pygments_lexer": "ipython3",
      "version": "3.8.5"
    },
    "colab": {
      "name": "131.ipynb",
      "provenance": [],
      "include_colab_link": true
    }
  },
  "cells": [
    {
      "cell_type": "markdown",
      "metadata": {
        "id": "view-in-github",
        "colab_type": "text"
      },
      "source": [
        "<a href=\"https://colab.research.google.com/github/fortune-uwha/DSN---Titanic-project/blob/master/131.ipynb\" target=\"_parent\"><img src=\"https://colab.research.google.com/assets/colab-badge.svg\" alt=\"Open In Colab\"/></a>"
      ]
    },
    {
      "cell_type": "markdown",
      "metadata": {
        "id": "JWJ9HNfBJZs-"
      },
      "source": [
        "# Module 1: Data Science Fundamentals\n",
        "## Sprint 3: Intro to Modeling\n",
        "## Subproject 1: Linear Algebra Refresher"
      ]
    },
    {
      "cell_type": "markdown",
      "metadata": {
        "id": "V0L6OtLHJZts"
      },
      "source": [
        "Welcome to the final sprint of the Data Science Fundamentals module! We've done EDA, we've learned to verify our hypotheses of change by testing for significance in the change. There's one more skill set every data scientist should have - modeling. Modeling comes in many flavors - statistical modeling, machine learning. \n",
        "\n",
        "We will to explore the fundamental idea that **data can be represented in a compressed way - with a model**. You can imagine the model as an approximation of a dataset. Using models not only allows us, humans, to understand data better, but also make predictions about unseen data (we'll explore the concept of automatically learning relationships in the data)."
      ]
    },
    {
      "cell_type": "markdown",
      "metadata": {
        "id": "ndYIVedWJZtw"
      },
      "source": [
        "## Learning outcomes\n",
        "\n",
        "- Basics of linear algebra: vector operations, matrix operations.\n",
        "- Intermediate NumPy proficiency: broadcasting, vectorization, higher-level APIs."
      ]
    },
    {
      "cell_type": "markdown",
      "metadata": {
        "id": "MTxea4NvJZtx"
      },
      "source": [
        "## Linear Algebra Refresher"
      ]
    },
    {
      "cell_type": "markdown",
      "metadata": {
        "id": "QEDbrUpYJZtx"
      },
      "source": [
        "Go through all videos and exercises at [KhanAcademy's linear algebra module](https://www.khanacademy.org/math/linear-algebra). After the course, you should have refreshed your knowledge of linear algebra basics - vectors, matrices, their operations, inner product."
      ]
    },
    {
      "cell_type": "markdown",
      "metadata": {
        "id": "NxImPmbeJZty"
      },
      "source": [
        "## Advanced NumPy"
      ]
    },
    {
      "cell_type": "markdown",
      "metadata": {
        "id": "ZK68aoGmJZtz"
      },
      "source": [
        "We've had a chance to try out some NumPy in Sprint 1. We've barely scratched the surface - there's so much more you should know about NumPy APIs as a data scientist, which we'll focus on throughout this subproject. This subproject will mostly consist of exercises."
      ]
    },
    {
      "cell_type": "markdown",
      "metadata": {
        "id": "Oi1X39iVJZtz"
      },
      "source": [
        "### Aggregations"
      ]
    },
    {
      "cell_type": "markdown",
      "metadata": {
        "id": "ydWLUG41JZt0"
      },
      "source": [
        "By this point, you should be familiar with Pandas aggregation techniques. Often, you need to crunch big data with pure NumPy (after all, Pandas Series are just NumPy arrays under the hood), thus it's worth being familiar with NumPy data aggregation techniques - sums, statistical parameter calculations (mean, median, quantiles, percentiles)."
      ]
    },
    {
      "cell_type": "markdown",
      "metadata": {
        "id": "tNWXGJcwJZt1"
      },
      "source": [
        "Go through [this](https://jakevdp.github.io/PythonDataScienceHandbook/02.04-computation-on-arrays-aggregates.html) tutorial on NumPy aggregation APIs. By the end of this tutorial, you should be able to apply basic NumPy aggregation techniques, when needed."
      ]
    },
    {
      "cell_type": "markdown",
      "metadata": {
        "id": "cHGJarqcJZt2"
      },
      "source": [
        "### Broadcasting and vectorization"
      ]
    },
    {
      "cell_type": "markdown",
      "metadata": {
        "id": "r9KMOt1FJZt3"
      },
      "source": [
        "Get familiar with the concept of [broadcasting](https://cs231n.github.io/python-numpy-tutorial/#broadcasting). It allows NumPy to work different shape arrays.\n",
        "\n",
        "Afterwards, get used to the concept of [vectorization](https://realpython.com/numpy-array-programming/#what-is-vectorization). This technique allows to run loop-based algorithms several times faster."
      ]
    },
    {
      "cell_type": "markdown",
      "metadata": {
        "id": "1h_snPZGJZt4"
      },
      "source": [
        "### Exercises"
      ]
    },
    {
      "cell_type": "markdown",
      "metadata": {
        "id": "oSoLuQKfJZt4"
      },
      "source": [
        "Implement exercises [26](https://github.com/rougier/numpy-100/blob/master/100_Numpy_exercises_with_hints.md#26-what-is-the-output-of-the-following-script-), [13](https://github.com/rougier/numpy-100/blob/master/100_Numpy_exercises_with_hints.md#13-create-a-10x10-array-with-random-values-and-find-the-minimum-and-maximum-values-) and [45](https://github.com/rougier/numpy-100/blob/master/100_Numpy_exercises_with_hints.md#45-create-random-vector-of-size-10-and-replace-the-maximum-value-by-0-). Check the solutions [here](https://github.com/rougier/numpy-100/blob/master/100_Numpy_exercises_with_hints_with_solutions.md). You can implement them in this notebook."
      ]
    },
    {
      "cell_type": "code",
      "metadata": {
        "id": "eQoLT1NTKKZf"
      },
      "source": [
        "import numpy as np"
      ],
      "execution_count": null,
      "outputs": []
    },
    {
      "cell_type": "markdown",
      "metadata": {
        "id": "hkDaInyPKeJE"
      },
      "source": [
        "#### 13. Create a 10x10 array with random values and find the minimum and maximum values"
      ]
    },
    {
      "cell_type": "code",
      "metadata": {
        "colab": {
          "base_uri": "https://localhost:8080/"
        },
        "id": "pAgA1eLbKgyS",
        "outputId": "00980673-7007-4345-8684-289bee0620f0"
      },
      "source": [
        "array = np.random.random((10,10))\n",
        "print(array)"
      ],
      "execution_count": null,
      "outputs": [
        {
          "output_type": "stream",
          "text": [
            "[[0.11349589 0.36859183 0.38280257 0.96000403 0.01918696 0.4770775\n",
            "  0.18481897 0.2939184  0.82863523 0.31940507]\n",
            " [0.47502892 0.9662604  0.47836859 0.92811399 0.06791091 0.57020302\n",
            "  0.42738582 0.28196161 0.38250416 0.28311315]\n",
            " [0.15899944 0.09360673 0.45639867 0.85185694 0.35963508 0.24309713\n",
            "  0.02140269 0.06970917 0.36578393 0.57004118]\n",
            " [0.92729871 0.43606201 0.27762668 0.35657565 0.47270959 0.46650929\n",
            "  0.4423446  0.88780343 0.26656417 0.7235139 ]\n",
            " [0.00128418 0.00755258 0.86771782 0.51737338 0.41042256 0.33151126\n",
            "  0.55138    0.97679889 0.11247594 0.89366934]\n",
            " [0.46285533 0.82886194 0.73242847 0.00131373 0.18919213 0.89490859\n",
            "  0.9420891  0.57686663 0.65071431 0.38639396]\n",
            " [0.45953573 0.75616008 0.01182896 0.13750912 0.39969753 0.67298642\n",
            "  0.49124397 0.69700449 0.70220217 0.03610937]\n",
            " [0.88999946 0.37925733 0.18218067 0.05225879 0.1126304  0.50345763\n",
            "  0.43461621 0.73362919 0.63560381 0.01020375]\n",
            " [0.16010764 0.59823547 0.91319821 0.97366681 0.39708826 0.51799925\n",
            "  0.50499881 0.39670816 0.72056895 0.76435092]\n",
            " [0.75431974 0.1521643  0.88334361 0.37352757 0.4346398  0.81948271\n",
            "  0.69558955 0.02075593 0.88450371 0.13073846]]\n"
          ],
          "name": "stdout"
        }
      ]
    },
    {
      "cell_type": "code",
      "metadata": {
        "colab": {
          "base_uri": "https://localhost:8080/"
        },
        "id": "1aTSvMWYLUBW",
        "outputId": "e46b2bc4-b562-42be-d77a-6ea98e4c6434"
      },
      "source": [
        "array.min(),array.max()"
      ],
      "execution_count": null,
      "outputs": [
        {
          "output_type": "execute_result",
          "data": {
            "text/plain": [
              "(0.0012841844245141676, 0.9767988941203034)"
            ]
          },
          "metadata": {
            "tags": []
          },
          "execution_count": 5
        }
      ]
    },
    {
      "cell_type": "markdown",
      "metadata": {
        "id": "gGGOMk1fMjKN"
      },
      "source": [
        "#### 26. What is the output of the following script?"
      ]
    },
    {
      "cell_type": "code",
      "metadata": {
        "id": "8zv_d6GoMnZi",
        "colab": {
          "base_uri": "https://localhost:8080/"
        },
        "outputId": "bb0cb9b9-99d0-4e30-d8f2-bdead8964208"
      },
      "source": [
        " print(sum(range(5),-1))\n",
        "from numpy import *\n",
        "print(sum(range(5),-1))"
      ],
      "execution_count": null,
      "outputs": [
        {
          "output_type": "stream",
          "text": [
            "9\n",
            "10\n"
          ],
          "name": "stdout"
        }
      ]
    },
    {
      "cell_type": "markdown",
      "metadata": {
        "id": "UizBwadXNKEU"
      },
      "source": [
        "#### 45. Create random vector of size 10 and replace the maximum value by 0"
      ]
    },
    {
      "cell_type": "code",
      "metadata": {
        "id": "LquRE7GoNg1c",
        "colab": {
          "base_uri": "https://localhost:8080/"
        },
        "outputId": "5ce8957e-86f8-4cd3-b43b-819256fb8665"
      },
      "source": [
        "array_x = np.random.random(10)\n",
        "array_x[array_x.argmax()] = 0\n",
        "print(array_x)"
      ],
      "execution_count": null,
      "outputs": [
        {
          "output_type": "stream",
          "text": [
            "[0.         0.39031574 0.73055401 0.50928489 0.1179906  0.6531963\n",
            " 0.74946352 0.44411752 0.23223249 0.01877596]\n"
          ],
          "name": "stdout"
        }
      ]
    },
    {
      "cell_type": "markdown",
      "metadata": {
        "id": "Bqq0s39pJZt5"
      },
      "source": [
        "For the end of this subproject, we invite you to solve some more NumPy exercises, this time more advanced. From the document [here](https://github.com/rougier/numpy-100/blob/master/100_Numpy_exercises_with_hints.md), choose 2 exercises of each difficulty level 3, and solve them. Afterwards, verify your solution using the answer sheet [here](https://github.com/rougier/numpy-100/blob/master/100_Numpy_exercises_with_hints_with_solutions.md)."
      ]
    },
    {
      "cell_type": "markdown",
      "metadata": {
        "id": "-Ge3q4HPOSNN"
      },
      "source": [
        "### Subproject"
      ]
    },
    {
      "cell_type": "markdown",
      "metadata": {
        "id": "OeMb_jS6OVpq"
      },
      "source": [
        ""
      ]
    },
    {
      "cell_type": "markdown",
      "metadata": {
        "id": "cdVtenkSJZt6"
      },
      "source": [
        "-----"
      ]
    },
    {
      "cell_type": "markdown",
      "metadata": {
        "id": "3_HLr0p0JZt7"
      },
      "source": [
        "## Summary"
      ]
    },
    {
      "cell_type": "markdown",
      "metadata": {
        "id": "xMeGpHYJJZt7"
      },
      "source": [
        "Linear algebra basics will be fundamental for the upcoming subprojects of this sprint. You should be comfortable with vector and matrix operations by now, as well as be able to employ De facto the best linear algebra framework for Python NumPy. Be aware that although NumPy is usually much faster than Python, vectorization knowledge is crucial to make it blazing fast."
      ]
    },
    {
      "cell_type": "code",
      "metadata": {
        "id": "WaYvNfX1JZt8"
      },
      "source": [
        ""
      ],
      "execution_count": null,
      "outputs": []
    }
  ]
}