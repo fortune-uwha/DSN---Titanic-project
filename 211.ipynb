{
  "nbformat": 4,
  "nbformat_minor": 0,
  "metadata": {
    "kernelspec": {
      "display_name": "Python 3",
      "language": "python",
      "name": "python3"
    },
    "language_info": {
      "codemirror_mode": {
        "name": "ipython",
        "version": 3
      },
      "file_extension": ".py",
      "mimetype": "text/x-python",
      "name": "python",
      "nbconvert_exporter": "python",
      "pygments_lexer": "ipython3",
      "version": "3.7.6"
    },
    "colab": {
      "name": "211.ipynb",
      "provenance": [],
      "include_colab_link": true
    }
  },
  "cells": [
    {
      "cell_type": "markdown",
      "metadata": {
        "id": "view-in-github",
        "colab_type": "text"
      },
      "source": [
        "<a href=\"https://colab.research.google.com/github/fortune-uwha/DSN---Titanic-project/blob/master/211.ipynb\" target=\"_parent\"><img src=\"https://colab.research.google.com/assets/colab-badge.svg\" alt=\"Open In Colab\"/></a>"
      ]
    },
    {
      "cell_type": "markdown",
      "metadata": {
        "id": "Alp6ILieGyK8"
      },
      "source": [
        "# Module 2: Data Engineering\n",
        "## Sprint 1: Software Engineering and Reproducible Research\n",
        "## Subproject 1: OOP, Code Style, and Reviews"
      ]
    },
    {
      "cell_type": "markdown",
      "metadata": {
        "id": "aRx2E6FPGyLA"
      },
      "source": [
        "Congrats on reaching the second module of the course! You already know the data science fundamentals, now the time has come to learn the basics of data engineering. This whole module will cover all required topics that you need to know to have a basic knowledge of data engineering. We will talk about Python packages, the project's structure, databases, and web applications. By the end of this module, you will be able to successfully serve your own trained models for others to use them. Does not this sound exciting?\n",
        "\n",
        "In the first sprint of the module, we will mostly talk about the basics of every data science project's initialization. You will learn how to properly write \"Clean Code\", write unit tests, set up Python environment, and use Docker. So now let's hop into the first lesson of this sprint. \n",
        "\n",
        "In this lesson, you will find out the differences between a class and an object. At the end of the lesson, you will know how to write clean Object-Orientated programming based code and will be able to write code reviews based on your understanding of stylistic Python code."
      ]
    },
    {
      "cell_type": "markdown",
      "metadata": {
        "id": "VATHPz02GyLC"
      },
      "source": [
        "## Learning outcomes\n",
        "- You will learn about basic Python class\n",
        "- You will learn about basic class components: initializers, methods, fields\n",
        "- You will know how to write stylistic Python code\n",
        "- You will know how to write \"Clean Code\"\n",
        "- You will be able to make basic code reviews"
      ]
    },
    {
      "cell_type": "markdown",
      "metadata": {
        "id": "SYUAse9IGyLC"
      },
      "source": [
        "---"
      ]
    },
    {
      "cell_type": "markdown",
      "metadata": {
        "id": "FFIa3kjvGyLD"
      },
      "source": [
        "## Different worlds of programming\n",
        "There are main three ways on how to write code: Functional, Procedural, and Object-Orientated programming (OOP). Most of this course will cover only OOP basics and will suggest to write code in an OOP way. If you are interested, you can find more information about different worlds of programming and find out about differences between Functional, Procedural and Object-Orientated programming [here](https://medium.com/@LiliOuakninFelsen/functional-vs-object-oriented-vs-procedural-programming-a3d4585557f3). Furthermore there is also cool [blog post](https://blog.newrelic.com/engineering/python-programming-styles/) about different programming styles of Python. In the suggested blog post you will also find out about the Imperative coding style."
      ]
    },
    {
      "cell_type": "markdown",
      "metadata": {
        "id": "g8Nd-16NGyLD"
      },
      "source": [
        "## Meet the Object-Orientated programming\n",
        "In the OOP world, there are two main words: a class and an object. Every part of code written in OOP style covers the idea of objects created from classes interacting with each other. At first, it can be quite difficult to understand key differences between classes and objects but after completing this lesson you should be able to differentiate these two."
      ]
    },
    {
      "cell_type": "markdown",
      "metadata": {
        "id": "YooK4G6lGyLE"
      },
      "source": [
        "### Python refresher\n",
        "If you feel that you need to refresh your Python coding skills, you can watch [this](https://www.youtube.com/watch?v=rfscVS0vtbw&ab_channel=freeCodeCamp.org) amazing video that covers all main aspects of the language. Feel free to skip parts or the entire video itself if you feel that you know all the information presented."
      ]
    },
    {
      "cell_type": "markdown",
      "metadata": {
        "id": "7qNbJnojGyLF"
      },
      "source": [
        "### Classes and Objects\n",
        "1. First, you should go to [this](https://www.learnpython.org/en/Classes_and_Objects) tutorial and look at the examples that explains key differences between a class and an object\n",
        "2. After, you should also take a look at the second part of the topic [Inheritance](https://www.geeksforgeeks.org/inheritance-in-python/). Take a look into the provided code examples \n",
        "3. There is also a good [tutorial](https://www.tutorialspoint.com/python/python_classes_objects.htm) that is a bit more in-depth of this topic.\n",
        "\n",
        "After reading provided resources, you should come back here, where we together will take a look at the key parts of this topic again."
      ]
    },
    {
      "cell_type": "markdown",
      "metadata": {
        "id": "T6N2Ed8EGyLG"
      },
      "source": [
        "### Dogs and Pugs\n",
        "The easiest way to understand the differences between a class and an object is to understand this analogy: there are many different breeds of dogs. They all have different looks and characters but all of them still are dogs: they have four legs, they bark, like to play fetch (well most of them) but most importantly are a subspecies of the wolf.\n",
        "\n",
        "<div>\n",
        "    <img src=\"https://upload.wikimedia.org/wikipedia/commons/d/d9/Collage_of_Nine_Dogs.jpg\" width=\"300px\" />\n",
        "</div>\n",
        "    \n",
        "If we would need to create a virtual dog, first we would define a class of it - what defines dog as a species? We can agree that dogs should be able to bark, run, fetch. Dogs have different breeds, names. Writing a dog class in Python is a simple as this:"
      ]
    },
    {
      "cell_type": "code",
      "metadata": {
        "id": "HQ9d14u5GyLI"
      },
      "source": [
        "class Dog:\n",
        "    def __init__(self) -> None:\n",
        "        pass\n",
        "    \n",
        "    def bark(self) -> None:\n",
        "        print(\"WOOF\")"
      ],
      "execution_count": 1,
      "outputs": []
    },
    {
      "cell_type": "markdown",
      "metadata": {
        "id": "ScTMP39iGyLJ"
      },
      "source": [
        "Here you encounter keyword `class` which defines that a new Python-based class will be initialized. All classes have `__init__()` method which is an initializer. Initialized is called every time an object is created. Here you should assign base class attributes passed as arguments in `__init__()` method. Let's say that we want to give dog breed, fur's color and name at its creation. This is how it would look like in Python:"
      ]
    },
    {
      "cell_type": "code",
      "metadata": {
        "id": "-sYOb2ZOGyLJ"
      },
      "source": [
        "class Dog:\n",
        "    def __init__(self, breed: str, fur_color: str, name: str) -> None:\n",
        "        self.breed = breed\n",
        "        self.fur_color = fur_color\n",
        "        self.name = name\n",
        "        \n",
        "    def bark(self) -> None:\n",
        "        print(\"WOOF\")"
      ],
      "execution_count": 2,
      "outputs": []
    },
    {
      "cell_type": "markdown",
      "metadata": {
        "id": "wPuaKl2yGyLK"
      },
      "source": [
        "You may notice keyword `self` being used at `__init__` method. Variables assigned to this keyword are attached to the class, meaning that they can be reached at every method inside it. More about class attributes later in the lesson. To create a new dog we only need to assign a class with passed initial values as arguments to a new variable:\n"
      ]
    },
    {
      "cell_type": "code",
      "metadata": {
        "id": "DfqADbRcGyLL"
      },
      "source": [
        "labradoodle = Dog(\"labrador\", \"gold\", \"Barky\")"
      ],
      "execution_count": 3,
      "outputs": []
    },
    {
      "cell_type": "markdown",
      "metadata": {
        "id": "yBggI7YAGyLL"
      },
      "source": [
        "We can check if our labradoodle can bark by running `bark` function:"
      ]
    },
    {
      "cell_type": "code",
      "metadata": {
        "colab": {
          "base_uri": "https://localhost:8080/"
        },
        "id": "U5PpDq5cGyLM",
        "outputId": "37df205b-ab7c-4a0d-bfa9-68266f44c2bb"
      },
      "source": [
        "labradoodle.bark()"
      ],
      "execution_count": 4,
      "outputs": [
        {
          "output_type": "stream",
          "text": [
            "WOOF\n"
          ],
          "name": "stdout"
        }
      ]
    },
    {
      "cell_type": "markdown",
      "metadata": {
        "id": "-No4niJnGyLO"
      },
      "source": [
        "We can create as many new dogs as we want. Class defines what properties a dog should have and what it could do:"
      ]
    },
    {
      "cell_type": "code",
      "metadata": {
        "colab": {
          "base_uri": "https://localhost:8080/"
        },
        "id": "XuFrVX4kGyLP",
        "outputId": "e9d49882-6a24-4a9f-d0b8-b2557c11d7cb"
      },
      "source": [
        "labradoodle = Dog(\"labrador\", \"gold\", \"Barky\")\n",
        "pug = Dog(\"pug\", \"white\", \"Rocky\")\n",
        "\n",
        "labradoodle.bark()\n",
        "pug.bark()"
      ],
      "execution_count": 5,
      "outputs": [
        {
          "output_type": "stream",
          "text": [
            "WOOF\n",
            "WOOF\n"
          ],
          "name": "stdout"
        }
      ]
    },
    {
      "cell_type": "markdown",
      "metadata": {
        "id": "xy-Uq3UsGyLQ"
      },
      "source": [
        "### Public, private and protected attributes\n",
        "Based on OOP ideas, all attributes inside class should not be directly accessible, meaning that the class we wrote before does not meet OOP standards. To explain we will create some dogs based on the class defined before:"
      ]
    },
    {
      "cell_type": "code",
      "metadata": {
        "id": "ZIfR9fqsGyLS"
      },
      "source": [
        "pug = Dog(\"pug\", \"white\", \"Rocky\")"
      ],
      "execution_count": 6,
      "outputs": []
    },
    {
      "cell_type": "markdown",
      "metadata": {
        "id": "8m2Wq0lKGyLS"
      },
      "source": [
        "Now we can see the dog's name by accessing its name directly:"
      ]
    },
    {
      "cell_type": "code",
      "metadata": {
        "colab": {
          "base_uri": "https://localhost:8080/"
        },
        "id": "HRjIbiV6GyLT",
        "outputId": "40d05876-ff91-4074-e1c8-4c6eba3b744d"
      },
      "source": [
        "print(pug.name)"
      ],
      "execution_count": 7,
      "outputs": [
        {
          "output_type": "stream",
          "text": [
            "Rocky\n"
          ],
          "name": "stdout"
        }
      ]
    },
    {
      "cell_type": "markdown",
      "metadata": {
        "id": "vmQRzowrGyLT"
      },
      "source": [
        "For now it looks fine but the huge problem is that anyone can easily rename our beloved dog:"
      ]
    },
    {
      "cell_type": "code",
      "metadata": {
        "colab": {
          "base_uri": "https://localhost:8080/"
        },
        "id": "9uw_WXZeGyLU",
        "outputId": "60f119e8-2ab6-4064-c4c9-79aa9aee09eb"
      },
      "source": [
        "pug.name = \"Ham\"\n",
        "print(pug.name)"
      ],
      "execution_count": 8,
      "outputs": [
        {
          "output_type": "stream",
          "text": [
            "Ham\n"
          ],
          "name": "stdout"
        }
      ]
    },
    {
      "cell_type": "markdown",
      "metadata": {
        "id": "Y80o0cguGyLU"
      },
      "source": [
        "That is really annoying. Gladly Python has a way to solve this type of problem: **private** attributes. Actually, there are public, protected, and private attributes in Python. **Public** are the ones we wrote earlier - generally accessible as a class attribute `self.breed`, `self.name`. **Protected** attributes are written with `_` at the beginning: `self._breed`, `self._name`. Protected attributes are designed to be restricted to access, unless it is from within a sub-class."
      ]
    },
    {
      "cell_type": "code",
      "metadata": {
        "colab": {
          "base_uri": "https://localhost:8080/",
          "height": 195
        },
        "id": "qvURJRBVGyLU",
        "outputId": "a8e3c785-a7f4-4047-f2af-d402529c4051"
      },
      "source": [
        "print(pug._name)\n",
        "pug._name = \"Ham\"\n",
        "print(pug._name)"
      ],
      "execution_count": 9,
      "outputs": [
        {
          "output_type": "error",
          "ename": "AttributeError",
          "evalue": "ignored",
          "traceback": [
            "\u001b[0;31m---------------------------------------------------------------------------\u001b[0m",
            "\u001b[0;31mAttributeError\u001b[0m                            Traceback (most recent call last)",
            "\u001b[0;32m<ipython-input-9-9f00cf8f0e96>\u001b[0m in \u001b[0;36m<module>\u001b[0;34m()\u001b[0m\n\u001b[0;32m----> 1\u001b[0;31m \u001b[0mprint\u001b[0m\u001b[0;34m(\u001b[0m\u001b[0mpug\u001b[0m\u001b[0;34m.\u001b[0m\u001b[0m_name\u001b[0m\u001b[0;34m)\u001b[0m\u001b[0;34m\u001b[0m\u001b[0;34m\u001b[0m\u001b[0m\n\u001b[0m\u001b[1;32m      2\u001b[0m \u001b[0mpug\u001b[0m\u001b[0;34m.\u001b[0m\u001b[0m_name\u001b[0m \u001b[0;34m=\u001b[0m \u001b[0;34m\"Ham\"\u001b[0m\u001b[0;34m\u001b[0m\u001b[0;34m\u001b[0m\u001b[0m\n\u001b[1;32m      3\u001b[0m \u001b[0mprint\u001b[0m\u001b[0;34m(\u001b[0m\u001b[0mpug\u001b[0m\u001b[0;34m.\u001b[0m\u001b[0m_name\u001b[0m\u001b[0;34m)\u001b[0m\u001b[0;34m\u001b[0m\u001b[0;34m\u001b[0m\u001b[0m\n",
            "\u001b[0;31mAttributeError\u001b[0m: 'Dog' object has no attribute '_name'"
          ]
        }
      ]
    },
    {
      "cell_type": "markdown",
      "metadata": {
        "id": "YYZcjMTzGyLV"
      },
      "source": [
        "What we really want to use are the **private** attributes. They are defined by a double underscore symbol at the beginning: `self.__name`, `self.__breed`. Now if we try to access our beloved pug's name, we will not be able to:"
      ]
    },
    {
      "cell_type": "code",
      "metadata": {
        "colab": {
          "base_uri": "https://localhost:8080/",
          "height": 162
        },
        "id": "dXTLdrg4GyLV",
        "outputId": "42176dec-c824-4f3a-d577-d418f188b104"
      },
      "source": [
        "print(pug.__name)"
      ],
      "execution_count": 10,
      "outputs": [
        {
          "output_type": "error",
          "ename": "AttributeError",
          "evalue": "ignored",
          "traceback": [
            "\u001b[0;31m---------------------------------------------------------------------------\u001b[0m",
            "\u001b[0;31mAttributeError\u001b[0m                            Traceback (most recent call last)",
            "\u001b[0;32m<ipython-input-10-f4f5e4e7a181>\u001b[0m in \u001b[0;36m<module>\u001b[0;34m()\u001b[0m\n\u001b[0;32m----> 1\u001b[0;31m \u001b[0mprint\u001b[0m\u001b[0;34m(\u001b[0m\u001b[0mpug\u001b[0m\u001b[0;34m.\u001b[0m\u001b[0m__name\u001b[0m\u001b[0;34m)\u001b[0m\u001b[0;34m\u001b[0m\u001b[0;34m\u001b[0m\u001b[0m\n\u001b[0m",
            "\u001b[0;31mAttributeError\u001b[0m: 'Dog' object has no attribute '__name'"
          ]
        }
      ]
    },
    {
      "cell_type": "markdown",
      "metadata": {
        "id": "THuO5lOoGyLV"
      },
      "source": [
        "But what happens if we try to change it?:"
      ]
    },
    {
      "cell_type": "code",
      "metadata": {
        "colab": {
          "base_uri": "https://localhost:8080/"
        },
        "id": "886u2vfcGyLV",
        "outputId": "57d83ea5-6078-452d-b6fe-f7ed5f5aff4d"
      },
      "source": [
        "pug.__name = \"Ham\"\n",
        "print(pug.__name)"
      ],
      "execution_count": 11,
      "outputs": [
        {
          "output_type": "stream",
          "text": [
            "Ham\n"
          ],
          "name": "stdout"
        }
      ]
    },
    {
      "cell_type": "markdown",
      "metadata": {
        "id": "FbdDeudrGyLW"
      },
      "source": [
        "What happened here? Well in Python there actually are not private attributes. There is only an agreement that attributes that start with `__` are private. When you assigned value to pug `pug.__name = \"Ham\"` you actually created a new attribute with name `__name`. The best way to prevent unwanted access to objects' attributes is to use **getters** and **setters**:"
      ]
    },
    {
      "cell_type": "markdown",
      "metadata": {
        "id": "GzKTpzgNGyLW"
      },
      "source": [
        "If we can not access it what's the use of pug having a name? Well based on OOP ideas, all object's attributes should be accessible with **get** and **set** functions. If we rewrite dog class based on the new knowledge it would look like this:"
      ]
    },
    {
      "cell_type": "code",
      "metadata": {
        "id": "Mg1igewtGyLX"
      },
      "source": [
        "class Dog:\n",
        "    def __init__(self, breed: str, fur_color: str, name: str) -> None:\n",
        "        self.__breed = breed\n",
        "        self.__fur_color = fur_color\n",
        "        self.__name = name\n",
        "        self.__activity = \"Is happy\"\n",
        "        \n",
        "    def bark(self) -> None:\n",
        "        print(\"WOOF\")\n",
        "        \n",
        "    @property\n",
        "    def name(self) -> str:\n",
        "        return self.__name\n",
        "    \n",
        "    @property\n",
        "    def activity(self) -> str:\n",
        "        return self.__activity\n",
        "    \n",
        "    @activity.setter\n",
        "    def activity(self, new_activity: str) -> None:\n",
        "        self.__activity = new_activity\n",
        "        \n",
        "    @activity.deleter\n",
        "    def activity(self) -> None:\n",
        "        print(\"Activity is removed\")\n",
        "        del self.__activity"
      ],
      "execution_count": 12,
      "outputs": []
    },
    {
      "cell_type": "code",
      "metadata": {
        "colab": {
          "base_uri": "https://localhost:8080/"
        },
        "id": "AOuVZcNtGyLX",
        "outputId": "650ebcb3-6468-426e-c50c-8e2894320194"
      },
      "source": [
        "pug = Dog(\"pug\", \"white\", \"Rocky\")\n",
        "print(pug.name)\n",
        "print(pug.activity)"
      ],
      "execution_count": 13,
      "outputs": [
        {
          "output_type": "stream",
          "text": [
            "Rocky\n",
            "Is happy\n"
          ],
          "name": "stdout"
        }
      ]
    },
    {
      "cell_type": "code",
      "metadata": {
        "colab": {
          "base_uri": "https://localhost:8080/"
        },
        "id": "KDY4Ds0nGyLY",
        "outputId": "fabd7189-2300-4b4c-9e33-4b0605629a36"
      },
      "source": [
        "pug.activity = \"Plays fetch\"\n",
        "print(pug.activity)"
      ],
      "execution_count": 14,
      "outputs": [
        {
          "output_type": "stream",
          "text": [
            "Plays fetch\n"
          ],
          "name": "stdout"
        }
      ]
    },
    {
      "cell_type": "code",
      "metadata": {
        "colab": {
          "base_uri": "https://localhost:8080/"
        },
        "id": "ra4IFJk9GyLY",
        "outputId": "8fe69796-eb2e-49b7-cd79-aaf9e6bd0b6d"
      },
      "source": [
        "del pug.activity"
      ],
      "execution_count": 15,
      "outputs": [
        {
          "output_type": "stream",
          "text": [
            "Activity is removed\n"
          ],
          "name": "stdout"
        }
      ]
    },
    {
      "cell_type": "markdown",
      "metadata": {
        "id": "u1kQk3MjGyLY"
      },
      "source": [
        "Lots of new stuff happened there. First, let's begin with the `@property` class. This class defined that method below will return a class attribute, so by calling `pug.name` we will actually be returning `pug.__name` value. This encapsulation prevents unwanted access to our class attributes. `@activity.setter` is a Python class that defines that new value for class attribute will be set. By assigning `pug.activity = \"Pays fetch\"` we are changing `self.__activity` value. `@activity.deleter` is a class that is being called when `del` method is called on a class attribute. Now our `Dog` class is designed with keeping OOP ideas in mind."
      ]
    },
    {
      "cell_type": "markdown",
      "metadata": {
        "id": "oqZg6JcmGyLY"
      },
      "source": [
        "### Inheritance\n",
        "Another key concept of OOP to understand is an Inheritance. Classes can inherit attributes and methods from each other. Inheritance is commonly used in various Python tools and packages. To better illustrate it we can do some refactoring to our `Dog` class. We know that dogs are a subspecies of a wolf so dogs have some shared properties and abilities with them. Let's create a Wolf class:"
      ]
    },
    {
      "cell_type": "code",
      "metadata": {
        "id": "hJ3BidohGyLZ"
      },
      "source": [
        "class Wolf:\n",
        "    def __init__(self, is_friendly: bool = False) -> None:\n",
        "        self.__is_friendly = is_friendly\n",
        "        \n",
        "    def bark(self) -> None:\n",
        "        print(\"WOOF\")\n",
        "        \n",
        "    def can_pet(self) -> str:\n",
        "        if self.__is_friendly:\n",
        "            return \"Pet me!\"\n",
        "        return \"I will bite you!\""
      ],
      "execution_count": 16,
      "outputs": []
    },
    {
      "cell_type": "code",
      "metadata": {
        "id": "QPTREZm0GyLZ"
      },
      "source": [
        "class Dog:\n",
        "    def __init__(self, breed: str, fur_color: str, name: str) -> None:\n",
        "        self.__breed = breed\n",
        "        self.__fur_color = fur_color\n",
        "        self.__name = name\n",
        "        self.__activity = \"Is happy\"\n",
        "        \n",
        "    @property\n",
        "    def name(self) -> str:\n",
        "        return self.__name\n",
        "    \n",
        "    @property\n",
        "    def activity(self) -> str:\n",
        "        return self.__activity\n",
        "    \n",
        "    @activity.setter\n",
        "    def activity(self, new_activity: str) -> str:\n",
        "        self.__activity = new_activity\n",
        "        \n",
        "    @activity.deleter\n",
        "    def activity(self) -> None:\n",
        "        print(\"Activity is removed\")\n",
        "        del self.__activity"
      ],
      "execution_count": 17,
      "outputs": []
    },
    {
      "cell_type": "markdown",
      "metadata": {
        "id": "c7SGc0SSGyLa"
      },
      "source": [
        "Here we have a new class in our code - `Wolf`. We transferred `bark()` method from `Dog` class and added a new attribute that defines if a creature is friendly to humans or not. Now we can make `Dog` class to inherit properties from `Wolf's` class:"
      ]
    },
    {
      "cell_type": "code",
      "metadata": {
        "id": "TY-HksozGyLa"
      },
      "source": [
        "class Dog(Wolf):\n",
        "    def __init__(self, breed: str, fur_color: str, name: str) -> None:\n",
        "        super().__init__()\n",
        "        self.__breed = breed\n",
        "        self.__fur_color = fur_color\n",
        "        self.__name = name\n",
        "        self.__activity = \"Is happy\"\n",
        "        \n",
        "    @property\n",
        "    def name(self) -> str:\n",
        "        return self.__name\n",
        "    \n",
        "    @property\n",
        "    def activity(self) -> str:\n",
        "        return self.__activity\n",
        "    \n",
        "    @activity.setter\n",
        "    def activity(self, new_activity: str) -> str:\n",
        "        self.__activity = new_activity\n",
        "        \n",
        "    @activity.deleter\n",
        "    def activity(self) -> None:\n",
        "        print(\"Activity is removed\")\n",
        "        del self.__activity"
      ],
      "execution_count": 18,
      "outputs": []
    },
    {
      "cell_type": "code",
      "metadata": {
        "colab": {
          "base_uri": "https://localhost:8080/"
        },
        "id": "SattYCH2GyLb",
        "outputId": "82f1c870-64bf-434e-901d-ed018f9bf9bf"
      },
      "source": [
        "pug = Dog(\"pug\", \"white\", \"Sparky\")\n",
        "pug.bark()\n",
        "print(pug.can_pet())"
      ],
      "execution_count": 19,
      "outputs": [
        {
          "output_type": "stream",
          "text": [
            "WOOF\n",
            "I will bite you!\n"
          ],
          "name": "stdout"
        }
      ]
    },
    {
      "cell_type": "markdown",
      "metadata": {
        "id": "ngt96rPdGyLb"
      },
      "source": [
        "Pug inherited ability to bark from parent `Wolf` class so our dog can bark too. Unfortunately, our pug bites if we touch him. We must change it!. To do it we will pass `True` value to a `super().__init__()` method. Super method lets use all attributes and functions of parent class. Here we can also pass values to a parent class `__init__()` method:"
      ]
    },
    {
      "cell_type": "code",
      "metadata": {
        "id": "9jrumitUGyLb"
      },
      "source": [
        "class Dog(Wolf):\n",
        "    def __init__(self, breed: str, fur_color: str, name: str) -> None:\n",
        "        super().__init__(True)\n",
        "        self.__breed = breed\n",
        "        self.__fur_color = fur_color\n",
        "        self.__name = name\n",
        "        self.__activity = \"Is happy\"\n",
        "       \n",
        "    @property\n",
        "    def name(self) -> str:\n",
        "        return self.__name\n",
        "    \n",
        "    @property\n",
        "    def activity(self) -> str:\n",
        "        return self.__activity\n",
        "    \n",
        "    @activity.setter\n",
        "    def activity(self, new_activity: str) -> str:\n",
        "        self.__activity = new_activity\n",
        "        \n",
        "    @activity.deleter\n",
        "    def activity(self) -> None:\n",
        "        print(\"Activity is removed\")\n",
        "        del self.__activity"
      ],
      "execution_count": 20,
      "outputs": []
    },
    {
      "cell_type": "code",
      "metadata": {
        "colab": {
          "base_uri": "https://localhost:8080/"
        },
        "id": "kVyNJZycGyLe",
        "outputId": "7c899a87-ec11-492f-9f7f-38bbfa40f534"
      },
      "source": [
        "pug = Dog(\"pug\", \"white\", \"Sparky\")\n",
        "pug.bark()\n",
        "print(pug.can_pet())"
      ],
      "execution_count": 21,
      "outputs": [
        {
          "output_type": "stream",
          "text": [
            "WOOF\n",
            "Pet me!\n"
          ],
          "name": "stdout"
        }
      ]
    },
    {
      "cell_type": "markdown",
      "metadata": {
        "id": "25TxNqzxGyLe"
      },
      "source": [
        "Yay! We can now pet our pug! We can also overwrite parent class methods. Sometimes this action is even required to do:"
      ]
    },
    {
      "cell_type": "code",
      "metadata": {
        "id": "7nRFozJPGyLf"
      },
      "source": [
        "class Wolf:\n",
        "    def __init__(self, is_friendly: bool = False):\n",
        "        self.__is_friendly = is_friendly\n",
        "        \n",
        "    def bark(self):\n",
        "        print(\"WOOF\")\n",
        "        \n",
        "    def can_pet(self):\n",
        "        if self.__is_friendly:\n",
        "            return \"Pet me!\"\n",
        "        return \"I will bite you!\"\n",
        "    \n",
        "    def do_special_move(self):\n",
        "        raise NotImplementedError"
      ],
      "execution_count": 22,
      "outputs": []
    },
    {
      "cell_type": "code",
      "metadata": {
        "colab": {
          "base_uri": "https://localhost:8080/",
          "height": 178
        },
        "id": "2b-ZU_0LGyLf",
        "outputId": "45752a7e-10fa-487a-9538-5f97ffa5a837"
      },
      "source": [
        "pug = Dog(\"pug\", \"white\", \"Sparky\")\n",
        "pug.do_special_move()"
      ],
      "execution_count": 23,
      "outputs": [
        {
          "output_type": "error",
          "ename": "AttributeError",
          "evalue": "ignored",
          "traceback": [
            "\u001b[0;31m---------------------------------------------------------------------------\u001b[0m",
            "\u001b[0;31mAttributeError\u001b[0m                            Traceback (most recent call last)",
            "\u001b[0;32m<ipython-input-23-dbae8c41c5fa>\u001b[0m in \u001b[0;36m<module>\u001b[0;34m()\u001b[0m\n\u001b[1;32m      1\u001b[0m \u001b[0mpug\u001b[0m \u001b[0;34m=\u001b[0m \u001b[0mDog\u001b[0m\u001b[0;34m(\u001b[0m\u001b[0;34m\"pug\"\u001b[0m\u001b[0;34m,\u001b[0m \u001b[0;34m\"white\"\u001b[0m\u001b[0;34m,\u001b[0m \u001b[0;34m\"Sparky\"\u001b[0m\u001b[0;34m)\u001b[0m\u001b[0;34m\u001b[0m\u001b[0;34m\u001b[0m\u001b[0m\n\u001b[0;32m----> 2\u001b[0;31m \u001b[0mpug\u001b[0m\u001b[0;34m.\u001b[0m\u001b[0mdo_special_move\u001b[0m\u001b[0;34m(\u001b[0m\u001b[0;34m)\u001b[0m\u001b[0;34m\u001b[0m\u001b[0;34m\u001b[0m\u001b[0m\n\u001b[0m",
            "\u001b[0;31mAttributeError\u001b[0m: 'Dog' object has no attribute 'do_special_move'"
          ]
        }
      ]
    },
    {
      "cell_type": "markdown",
      "metadata": {
        "id": "9qZfcf61GyLg"
      },
      "source": [
        "If we want to avoid this error, we must overwrite `do_special_move()`:"
      ]
    },
    {
      "cell_type": "code",
      "metadata": {
        "id": "-fy1W5c4GyLg"
      },
      "source": [
        "class Dog(Wolf):\n",
        "    def __init__(self, breed: str, fur_color: str, name: str):\n",
        "        super().__init__()\n",
        "        self.__breed = breed\n",
        "        self.__fur_color = fur_color\n",
        "        self.__name = name\n",
        "        self.__activity = \"Is happy\"\n",
        "        \n",
        "    def do_special_move(self):\n",
        "        print(\"Stands on two legs\")\n",
        "        \n",
        "    @property\n",
        "    def name(self) -> str:\n",
        "        return self.__name\n",
        "    \n",
        "    @property\n",
        "    def activity(self) -> str:\n",
        "        return self.__activity\n",
        "    \n",
        "    @activity.setter\n",
        "    def activity(self, new_activity: str) -> str:\n",
        "        self.__activity = new_activity\n",
        "        \n",
        "    @activity.deleter\n",
        "    def activity(self):\n",
        "        print(\"Activity is removed\")\n",
        "        del self.__activity"
      ],
      "execution_count": 24,
      "outputs": []
    },
    {
      "cell_type": "code",
      "metadata": {
        "colab": {
          "base_uri": "https://localhost:8080/"
        },
        "id": "Q3jipZghGyLg",
        "outputId": "c95540b8-5ad3-4c7a-bf9a-8f89ab2a1f91"
      },
      "source": [
        "pug = Dog(\"pug\", \"white\", \"Sparky\")\n",
        "pug.do_special_move()"
      ],
      "execution_count": 25,
      "outputs": [
        {
          "output_type": "stream",
          "text": [
            "Stands on two legs\n"
          ],
          "name": "stdout"
        }
      ]
    },
    {
      "cell_type": "markdown",
      "metadata": {
        "id": "M4FLhgmZGyLh"
      },
      "source": [
        "By creating dogs and pugs, dogs from wolves you will be able to implement basic OOP concepts and start your journey in the OOP world. Now you can try to create Tesla electric car factory!"
      ]
    },
    {
      "cell_type": "markdown",
      "metadata": {
        "id": "QDMd6F6tGyLh"
      },
      "source": [
        "## Exercise - Tesla car factory"
      ]
    },
    {
      "cell_type": "markdown",
      "metadata": {
        "id": "ORLV784pGyLh"
      },
      "source": [
        "To check your understanding of OOP, you will need to complete a couple of tasks and create your own Tesla factory! Does not it sound interesting? If you get stuck on a specific task, revisit learning material where you will find all needed information to complete this exercise."
      ]
    },
    {
      "cell_type": "markdown",
      "metadata": {
        "id": "sU8ux2kiGyLh"
      },
      "source": [
        "### The task\n",
        "First you should upgrade the provided Tesla class to be able to set a car's color when creating an object. You should also create a `@getter` that returns the color of the car (color must be a private variable). You should not remove anything that is written down below, just modify the class by adding your own code."
      ]
    },
    {
      "cell_type": "code",
      "metadata": {
        "id": "3018a2LlGyLi"
      },
      "source": [
        "class Tesla:\n",
        "    # WRITE YOUR CODE HERE\n",
        "    def __init__(self, model: str, color: str, autopilot: bool = False, efficiency: float =  0.3):\n",
        "        self.__model = model\n",
        "        self.__color = color\n",
        "        self.__autopilot = autopilot\n",
        "        self.__efficiency = efficiency\n",
        "        self.__battery_charge = 99.9\n",
        "        self._is_locked = True\n",
        "        self.__seats_count = 5\n",
        "\n",
        "    @property   \n",
        "    def color(self):\n",
        "        return self.__color\n",
        "\n",
        "    def autopilot(self, obsticle: str) -> str:\n",
        "        # COMPLETE THE FUNCION\n",
        "        if self.__autopilot:\n",
        "            return f\"Tesla model {self.__model} avoids {obsticle}\"\n",
        "        return \"Autopilot is not available\"\n",
        "    \n",
        "    @property\n",
        "    def seats_count(self):\n",
        "        return self.__seats_count\n",
        "\n",
        "    @seats_count.setter\n",
        "    def seats_count(self, count: int):\n",
        "        if count < 2:\n",
        "            print(\"Seats count cannot be lower than 2!\")\n",
        "        else:\n",
        "            self.__seats_count = count\n",
        "    \n",
        "    def lock(self):\n",
        "        self._is_locked = True\n",
        "        \n",
        "    def unlock(self):\n",
        "        self._is_locked = False\n",
        "\n",
        "    def open_doors(self) -> str:\n",
        "        # COMPLETE THE FUNCION\n",
        "        if self._is_locked == False:\n",
        "            return \"Doors opens sideways\"\n",
        "        return \"Car is locked!\"\n",
        "\n",
        "    def check_battery_level(self) -> str:\n",
        "        # COMPLETE THE FUNCTION\n",
        "        return f\"Battery charge level is {self.__battery_charge}%\"\n",
        "    \n",
        "    def charge_battery(self):\n",
        "        # COMPLETE THE FUNCTION\n",
        "        # BATTERY LEVEL SHOULD BE SET TO 100\n",
        "        self.__battery_charge = 100\n",
        "        self.check_battery_level()\n",
        "        \n",
        "    def drive(self, travel_range: float):\n",
        "        # COMPLETE THE FUNCTION\n",
        "        battery_discharge_percent = travel_range * self.__efficiency\n",
        "        if self.__battery_charge - battery_discharge_percent >= 0:\n",
        "            self.__battery_charge -= battery_discharge_percent\n",
        "        else:\n",
        "            print(\"Battery charge level is too low!\")\n",
        "        return self.check_battery_level()\n",
        "        # ADD YOUR CODE\n",
        "class ModelX(Tesla):\n",
        "    def __init__(self, color: str, autopilot: bool = False):\n",
        "        # PASS REQUIRED VARIABLES TO INIT FUNCTION. EFFICIENCY SHOULD BE SET TO 0.125\n",
        "        super().__init__(\"Model3\", color, autopilot, 0.125)\n",
        "\n",
        "    def open_doors(self):\n",
        "        # COMPLETE THE FUNCION\n",
        "        if self._is_locked == False:\n",
        "            return \"Doors opens towards roof\"\n",
        "        return \"Car is locked!\"\n",
        "    def welcome(self) -> str:\n",
        "        return \"Hello from ModelX!\""
      ],
      "execution_count": 80,
      "outputs": []
    },
    {
      "cell_type": "code",
      "metadata": {
        "id": "8tAG3syAGyLi"
      },
      "source": [
        "tesla = Tesla(\"S\", \"red\")\n",
        "assert tesla.color == \"red\""
      ],
      "execution_count": 81,
      "outputs": []
    },
    {
      "cell_type": "markdown",
      "metadata": {
        "id": "_XFvFk-1GyLi"
      },
      "source": [
        "Now you should update the same class to support the addition of autopilot (bool variable). By default it should be set to `False`. You should also complete the function that enables the car to use autopilot if it is enabled."
      ]
    },
    {
      "cell_type": "markdown",
      "metadata": {
        "id": "237jpipaGyLi"
      },
      "source": [
        "```python\n",
        "class Tesla:\n",
        "    # CODE ABOVE\n",
        "        \n",
        "    def autopilot(self, obsticle: str) -> str:\n",
        "        # COMPLETE THE FUNCION\n",
        "        if self.__autopilot:\n",
        "            return f\"Tesla {} avoids {}\"\n",
        "```"
      ]
    },
    {
      "cell_type": "code",
      "metadata": {
        "id": "YoNNm06_GyLi"
      },
      "source": [
        "tesla = Tesla(\"S\", \"red\")\n",
        "assert tesla.color == \"red\"\n",
        "assert tesla.autopilot(\"tree\") == \"Autopilot is not available\"\n",
        "\n",
        "tesla2 = Tesla(\"S\", \"blue\", autopilot = True)\n",
        "assert tesla2.color == \"blue\"\n",
        "assert tesla2.autopilot(\"tree\") == \"Tesla model S avoids tree\""
      ],
      "execution_count": 82,
      "outputs": []
    },
    {
      "cell_type": "markdown",
      "metadata": {
        "id": "Sevtrn5NGyLj"
      },
      "source": [
        "By default, Tesla Model S comes with 5 seats but we can improve it by changing the number of seats of our car (it is our factory after all). You should create a `@getter` that returns the number of seats and `@setter` that changes it (number of seats cannot be lower than 2!)"
      ]
    },
    {
      "cell_type": "code",
      "metadata": {
        "id": "6GbFhjZ1GyLj",
        "colab": {
          "base_uri": "https://localhost:8080/"
        },
        "outputId": "45b311f2-bebd-4f5a-fd39-f51eabe30b30"
      },
      "source": [
        "tesla = Tesla(\"S\", \"red\")\n",
        "assert tesla.seats_count == 5\n",
        "tesla.seats_count = 1\n",
        "assert tesla.seats_count == 5\n",
        "tesla.seats_count = 6\n",
        "assert tesla.seats_count == 6"
      ],
      "execution_count": 83,
      "outputs": [
        {
          "output_type": "stream",
          "text": [
            "Seats count cannot be lower than 2!\n"
          ],
          "name": "stdout"
        }
      ]
    },
    {
      "cell_type": "markdown",
      "metadata": {
        "id": "jjHEd9XuGyLj"
      },
      "source": [
        "Now you should make the car safe from unwanted guests. Our Tesla should have lock functionality. You should make three functions: one that locks the car, the other that unlocks it, and the function that opens the car's doors if it is unlocked.\n",
        "```python\n",
        "class Tesla:\n",
        "    # CODE ABOVE\n",
        "    \n",
        "    def open_doors(self) -> str:\n",
        "        # COMPLETE THE FUNCION\n",
        "            return \"Doors opens sideways\"\n",
        "```"
      ]
    },
    {
      "cell_type": "code",
      "metadata": {
        "id": "nu4hoiAXGyLj"
      },
      "source": [
        "tesla = Tesla(\"S\", \"red\")\n",
        "assert tesla.open_doors() == \"Car is locked!\"\n",
        "tesla.unlock()\n",
        "assert tesla.open_doors() == \"Doors opens sideways\""
      ],
      "execution_count": 84,
      "outputs": []
    },
    {
      "cell_type": "markdown",
      "metadata": {
        "id": "3DmCqIHSGyLk"
      },
      "source": [
        "Now we should enable charging of our Tesla. You need to create two more methods: one that returns battery level and another that charges the car.\n",
        "```python\n",
        "class Tesla:\n",
        "    # CODE ABOVE\n",
        "\n",
        "    def check_battery_level(self) -> str:\n",
        "        # COMPLETE THE FUNCTION\n",
        "    \n",
        "    def charge_battery(self):\n",
        "        # COMPLETE THE FUNCTION\n",
        "        # BATTERY LEVEL SHOULD BE SET TO 100\n",
        "        self.check_battery_level()\n",
        "```"
      ]
    },
    {
      "cell_type": "code",
      "metadata": {
        "id": "qXnnzQuAGyLk"
      },
      "source": [
        "tesla = Tesla(\"S\", \"red\")\n",
        "assert tesla.check_battery_level() == \"Battery charge level is 99.9%\"\n",
        "tesla.charge_battery()\n",
        "assert tesla.check_battery_level() == \"Battery charge level is 100%\""
      ],
      "execution_count": 85,
      "outputs": []
    },
    {
      "cell_type": "markdown",
      "metadata": {
        "id": "lyWW5tAxGyLk"
      },
      "source": [
        "Now we should make Tesla drive! To do it you will need to add another attribute to the class initializer - `efficiency: float` by default it should be set to `0.3`. Efficiency defines how far a car can drive without the need of charging it. Battery level updates this way:\n",
        "```python\n",
        "battery_discharge_percent = travel_range * self.__efficiency\n",
        "```\n",
        "You should create a new method `drive` that enables Tesla to travel to the destination. You should also check if the car will be able to travel the desired range.\n",
        "```python\n",
        "class Tesla:\n",
        "    # CODE ABOVE\n",
        "\n",
        "    def drive(self, travel_range: float):\n",
        "        # COMPLETE THE FUNCTION\n",
        "        if self.__battery_charge - battery_discharge_percent >= 0:\n",
        "            # ADD YOUR CODE\n",
        "            self.check_battery_level()\n",
        "        # ADD YOUR CODE\n",
        "```"
      ]
    },
    {
      "cell_type": "code",
      "metadata": {
        "id": "N7DkrsD1GyLk",
        "colab": {
          "base_uri": "https://localhost:8080/"
        },
        "outputId": "7385fcd9-6c88-4170-93e0-8862ed89f36c"
      },
      "source": [
        "tesla = Tesla(\"S\", \"red\")\n",
        "assert tesla.check_battery_level() == \"Battery charge level is 99.9%\"\n",
        "assert tesla.drive(100) == \"Battery charge level is 69.9%\"\n",
        "assert tesla.drive(420) == \"Battery charge level is 69.9%\"\n",
        "tesla.charge_battery()\n",
        "assert tesla.check_battery_level() == \"Battery charge level is 100%\""
      ],
      "execution_count": 86,
      "outputs": [
        {
          "output_type": "stream",
          "text": [
            "Battery charge level is too low!\n"
          ],
          "name": "stdout"
        }
      ]
    },
    {
      "cell_type": "markdown",
      "metadata": {
        "id": "k3yY9ipjGyLl"
      },
      "source": [
        "Now you should create a more defined Tesla car class - `ModelX`. This class should inherit everything from `Tesla` class and add more functionality."
      ]
    },
    {
      "cell_type": "code",
      "metadata": {
        "id": "vv_Ats_mGyLl"
      },
      "source": [
        "class ModelX(Tesla):\n",
        "    def __init__(self, color: str, autopilot: bool = False):\n",
        "        # PASS REQUIRED VARIABLES TO INIT FUNCTION. EFFICIENCY SHOULD BE SET TO 0.125\n",
        "        super().__init__(\"Model3\", color, autopilot, 0.125)\n",
        "\n",
        "    def open_doors(self):\n",
        "        # COMPLETE THE FUNCION\n",
        "        if self._is_locked == False:\n",
        "            return \"Doors opens towards roof\"\n",
        "        return \"Car is locked!\"\n",
        "    def welcome(self) -> str:\n",
        "        return \"Hello from ModelX!\""
      ],
      "execution_count": 94,
      "outputs": []
    },
    {
      "cell_type": "code",
      "metadata": {
        "id": "LCL7e3ixGyLl"
      },
      "source": [
        "modelx = ModelX(\"black\")\n",
        "modelx.unlock()\n",
        "assert modelx.open_doors() == \"Doors opens sideways\""
      ],
      "execution_count": 93,
      "outputs": []
    },
    {
      "cell_type": "markdown",
      "metadata": {
        "id": "YKcy_eJVGyLl"
      },
      "source": [
        "Cool, your TeslaX works! But as you can see ModelX opens doors sideways. That is completely wrong! As you can see from the pictures, ModelX opens the doors towards the roof! \n",
        "<div>\n",
        "    <img src=\"https://p.kindpng.com/picc/s/298-2980110_tesla-car-tesla-model-y-open-doors-hd.png\" width=\"300px\" />\n",
        "</div>"
      ]
    },
    {
      "cell_type": "markdown",
      "metadata": {
        "id": "FlbToWuQGyLm"
      },
      "source": [
        "You need to override `open_doors` method to adjust to the desired way of opening the car's doors\n",
        "\n",
        "```python\n",
        "class ModelX(Tesla):\n",
        "    # CODE ABOVE\n",
        "    \n",
        "    def open_doors(self):\n",
        "        # COMPLETE THE FUNCTION\n",
        "```"
      ]
    },
    {
      "cell_type": "code",
      "metadata": {
        "id": "5mwwrDOxGyLm"
      },
      "source": [
        "modelx = ModelX(\"black\")\n",
        "modelx.unlock()\n",
        "assert modelx.open_doors() == \"Doors opens towards roof\""
      ],
      "execution_count": 95,
      "outputs": []
    },
    {
      "cell_type": "markdown",
      "metadata": {
        "id": "U0cOvFmKGyLm"
      },
      "source": [
        "The last step is to make TeslaX welcome you. You might noticed strange method `welcome` we wrote:\n",
        "```python\n",
        "def welcome(self) -> str:\n",
        "    raise NotImplementedError\n",
        "```\n",
        "As you can see it actually does nothing and if you try to call this method using object created from `Tesla` class, you will get an error. We need to fix it by overriding this function inside `ModelX` class. Your ModelX should welcome you when you call the `welcome` method."
      ]
    },
    {
      "cell_type": "code",
      "metadata": {
        "id": "3IH_eUENGyLm"
      },
      "source": [
        "modelx = ModelX(\"black\")\n",
        "assert modelx.welcome() == \"Hello from ModelX!\""
      ],
      "execution_count": 96,
      "outputs": []
    },
    {
      "cell_type": "markdown",
      "metadata": {
        "id": "kSdjzF0XGyLm"
      },
      "source": [
        "Awesome! You created your own Tesla factory! By now you know the main aspects of OOP and how to implement them. Remember the code you wrote, you will need to use it in the next exercises."
      ]
    },
    {
      "cell_type": "markdown",
      "metadata": {
        "id": "clRU8n7gGyLn"
      },
      "source": [
        "## Code style\n",
        "As an engineer, you will be writing a lot of code. You will also be reading a lot of code. The code that you write must meet standards and you should also require your colleagues to write clear code too. Almost all programming languages have their own standards, Python is not an exception."
      ]
    },
    {
      "cell_type": "markdown",
      "metadata": {
        "id": "tS8aODEvGyLn"
      },
      "source": [
        "### PEP 8\n",
        "Python Enhancement Proposals (PEP) describe how Python language evolves. They also reference ideas on you should write Python code. Keeping PEP proposals in mind is a key part of writing clean code. The latest PEP version is PEP8. It covers a style guide for formatting, writing comments, and naming conventions. It also suggests many useful tips on various topics that help developers to improve their code writing skills. Here is a [page](https://www.python.org/dev/peps/pep-0008/) which covers all important PEP8 information. For now, you only need to know where to look for information. As a developer, you will be coming back to this page really often. It is really hard to keep all suggestions in mind and even harder not to forget to implement them in your code. Luckily, there are many great tools that help you to use PEP8 ideas in practice."
      ]
    },
    {
      "cell_type": "markdown",
      "metadata": {
        "id": "j2WIfS_iGyLn"
      },
      "source": [
        "#### Tools\n",
        "* [Pylint](https://code.visualstudio.com/docs/python/linting#_pylint) and [Flake8](https://code.visualstudio.com/docs/python/linting#_flake8) are code [linters](https://en.wikipedia.org/wiki/Lint_(software)) that checks code that you write and suggest changes that you should make to keep your code in line with PEP8 style. You should always install one or another to your IDE or Code Editor. This will make your code easy to read and most of the time help you to avoid typos and other silly mistakes.\n",
        "* [Black](https://github.com/psf/black) is a code formatter - it reformats your code to your desired state. As linter suggest you to fix code style mistakes, formatter does that for you. Of course, there are many mistakes that formatter will not be able to fix but if you use one, you will not need to worry about trailing spaces anymore."
      ]
    },
    {
      "cell_type": "markdown",
      "metadata": {
        "id": "wPIjx1X4GyLn"
      },
      "source": [
        "### Code consistency and unification\n",
        "By following PEP8 standards you will help yourself to be as consistent as possible: writing all function names in the same format, naming variables keeping same naming conventions. If all developers follow the same recommendations, they will create code that is unified and easy to understand and interpret. Even writing comments should also be unified. We will talk about commenting in the next lesson of this week but as for now, you should understand that clean comments lead to a clean codebase. You can enforce wanted tools to run at every git commit of code. There is a tool that combines all code styling and formatting tools - [pre-commit](https://pre-commit.com/). Pre-commit runs multiple tools at every git commit and gives an output if the code meets required standards. [Here](https://pre-commit.com/hooks.html) you can find the full list of supported hooks to use. You can also add custom ones if needed. The most important idea to take is that it is not complicated to set up linters and code formatters and it rewards you with unified and clean code."
      ]
    },
    {
      "cell_type": "markdown",
      "metadata": {
        "id": "Nmk4Is6zGyLo"
      },
      "source": [
        "### Clean code Bible\n",
        "There is a Bible of clean code \"Clean Code\" written by Robert C. Martin. This is the main book on how to become a software developer that is able to write clean and unified code. To better understand the topics mentioned in this lesson, you should read the first six chapters of the book. You can find a copy of this book [here](https://enos.itcollege.ee/~jpoial/oop/naited/Clean%20Code.pdf). <br/>\n",
        "<div>\n",
        "    <img src=\"https://images-na.ssl-images-amazon.com/images/I/51b7XbfMIIL.jpg\" width=\"200px\" />\n",
        "</div>"
      ]
    },
    {
      "cell_type": "markdown",
      "metadata": {
        "id": "FAKxqKupGyLo"
      },
      "source": [
        "## Code reviews\n",
        "After reading all provided resources and completing required exercises you should have a basic understanding of how clean and well-written code should look like. Now you have two objectives: write clean, OOP based code yourself and help other developers to achieve it. Probably you will need to make some [Pull Request](https://docs.github.com/en/github/collaborating-with-issues-and-pull-requests/about-pull-requests) reviews at one point or another. [Here are](https://google.github.io/eng-practices/review/reviewer/) tips created and used internally by Google on how to do it. TLDR version of resource is:\n",
        "* Think about how you would have solved the problem.\n",
        "* Think about libraries or existing products. Maybe there already exists a package you can use, instead of writing it yourself?\n",
        "* Consider if the change follows standard patterns?\n",
        "* Read the tests. They should provide information on how code works and what it actually does.\n",
        "* Security. Check for any visible vulnerabilities."
      ]
    },
    {
      "cell_type": "markdown",
      "metadata": {
        "id": "GBW0DTz_GyLo"
      },
      "source": [
        "You can also watch [this video](https://www.youtube.com/watch?v=a9_0UUUNt-Y) created by JetBrains team that covers basic ideas on how to perform great code reviews."
      ]
    },
    {
      "cell_type": "markdown",
      "metadata": {
        "id": "r7Mf-OSDGyLo"
      },
      "source": [
        "## Excercise\n",
        "The last task of this lesson is to register at [LeetCode](https://leetcode.com/). LeetCode is a website where you can find various programming problems. By solving them you will improve your coding skills and acquire knowledge that is beneficial when participating in job interviews.\n",
        "After registering, you should select 5 problems from [this](https://leetcode.com/problemset/all/?difficulty=Easy) list and solve them using Python3 language. You can find solutions online if you know where to look ;) but the goal is to test your problem solving and coding skills."
      ]
    },
    {
      "cell_type": "markdown",
      "metadata": {
        "id": "5hpVom5WGyLo"
      },
      "source": [
        "---"
      ]
    },
    {
      "cell_type": "markdown",
      "metadata": {
        "id": "R_2E62CtGyLp"
      },
      "source": [
        "## Summary\n",
        "That's it for this lesson! You did a great job by completing this notebook. Now you should know how to write clean object-oriented programming based code and will be able to write code reviews based on your understanding of stylistic Python code. Next lesson we will be talking about testing and documenting your code."
      ]
    },
    {
      "cell_type": "markdown",
      "metadata": {
        "id": "EEjtCoWfGyLp"
      },
      "source": [
        "## Further research\n",
        "There is a topic closely tied to OOP - Design Patterns. By definition, Design Patterns are reusable solutions to commonly occurring problems. Knowledge of them will enable you to efficiently use the gained OOP skills. You can start with [this](https://www.toptal.com/python/python-design-patterns) blog post and then visit [Geeks for Geeks ](https://www.geeksforgeeks.org/python-design-patterns/) website to learn more about each design pattern and it's implementation."
      ]
    },
    {
      "cell_type": "markdown",
      "metadata": {
        "id": "SwvevauMGyLp"
      },
      "source": [
        "---"
      ]
    },
    {
      "cell_type": "code",
      "metadata": {
        "id": "ZGcWtimYGyLp"
      },
      "source": [
        ""
      ],
      "execution_count": null,
      "outputs": []
    }
  ]
}